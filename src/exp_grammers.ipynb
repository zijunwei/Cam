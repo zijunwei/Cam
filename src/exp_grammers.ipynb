{
 "cells": [
  {
   "cell_type": "code",
   "execution_count": 9,
   "metadata": {
    "collapsed": true
   },
   "outputs": [],
   "source": [
    "import tensorflow as tf\n",
    "import numpy as np\n",
    "import pandas as pd\n",
    "import os\n",
    "import collections"
   ]
  },
  {
   "cell_type": "code",
   "execution_count": 5,
   "metadata": {
    "collapsed": false
   },
   "outputs": [],
   "source": [
    "dataset_path='/nfs/bigbang/zijun/imgnet/imgnet2012'\n",
    "tr_dir='ILSVRC2012_img_train'\n",
    "tst_dir='ILSVRC2012_img_val'\n",
    "tr_path=os.path.join(dataset_path,tr_dir)\n",
    "tst_path=os.path.join(dataset_path,tst_dir)"
   ]
  },
  {
   "cell_type": "code",
   "execution_count": 22,
   "metadata": {
    "collapsed": false
   },
   "outputs": [],
   "source": [
    "tr_dir_list=filter(lambda x: x.startswith('n'), os.listdir(tr_path))\n",
    "# tr_dir_list=sorted(tr_dir_list,key=str.lower)\n",
    "label_names=tr_dir_list"
   ]
  },
  {
   "cell_type": "code",
   "execution_count": 23,
   "metadata": {
    "collapsed": false
   },
   "outputs": [],
   "source": [
    "label_dict = pd.Series( range(len(label_names)), index=label_names )\n",
    "n_labels=len(label_dict)"
   ]
  },
  {
   "cell_type": "code",
   "execution_count": 28,
   "metadata": {
    "collapsed": false
   },
   "outputs": [],
   "source": [
    "image_paths_per_label = map(lambda one_dir: map(lambda one_file: os.path.join( tr_path, one_dir, one_file ), os.listdir( os.path.join( tr_path, one_dir))), tr_dir_list)\n"
   ]
  },
  {
   "cell_type": "code",
   "execution_count": 31,
   "metadata": {
    "collapsed": false
   },
   "outputs": [],
   "source": [
    "image_paths_train=np.hstack(image_paths_per_label)"
   ]
  },
  {
   "cell_type": "code",
   "execution_count": 38,
   "metadata": {
    "collapsed": false
   },
   "outputs": [],
   "source": [
    "image_paths_test=np.hstack( map(lambda one_file: os.path.join(tst_path,one_file),os.listdir(tst_path)))"
   ]
  },
  {
   "cell_type": "code",
   "execution_count": 39,
   "metadata": {
    "collapsed": false
   },
   "outputs": [
    {
     "data": {
      "text/plain": [
       "'/nfs/bigbang/zijun/imgnet/imgnet2012/ILSVRC2012_img_val/ILSVRC2012_val_00000194.JPEG'"
      ]
     },
     "execution_count": 39,
     "metadata": {},
     "output_type": "execute_result"
    }
   ],
   "source": []
  },
  {
   "cell_type": "code",
   "execution_count": null,
   "metadata": {
    "collapsed": true
   },
   "outputs": [],
   "source": []
  }
 ],
 "metadata": {
  "kernelspec": {
   "display_name": "Python 2",
   "language": "python",
   "name": "python2"
  },
  "language_info": {
   "codemirror_mode": {
    "name": "ipython",
    "version": 2
   },
   "file_extension": ".py",
   "mimetype": "text/x-python",
   "name": "python",
   "nbconvert_exporter": "python",
   "pygments_lexer": "ipython2",
   "version": "2.7.6"
  }
 },
 "nbformat": 4,
 "nbformat_minor": 0
}
